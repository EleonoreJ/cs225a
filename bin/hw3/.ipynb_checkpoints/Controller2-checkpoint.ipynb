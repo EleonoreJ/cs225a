{
 "cells": [
  {
   "cell_type": "code",
   "execution_count": null,
   "metadata": {},
   "outputs": [],
   "source": [
    "import csv\n",
    "import matplotlib.pyplot as plt\n",
    "import numpy as np\n",
    "\n",
    "with open('../../hw2/controller4.txt') as csvfile:\n",
    "    readCSV = csv.reader(csvfile, delimiter=',')\n",
    "    t_posx = []\n",
    "    t_posy = []\n",
    "    t_posz = []\n",
    "    t4 = []\n",
    "    t6 = []\n",
    "    xdx = []\n",
    "    xdy = []\n",
    "    xdz = []\n",
    "    for row in readCSV:\n",
    "        t_posx.append(float(row[0]))\n",
    "        t_posy.append(float(row[1]))\n",
    "        t_posz.append(float(row[2]))\n",
    "        t4.append(float(row[6]))\n",
    "        t6.append(float(row[8]))\n",
    "        xdx.append(float(row[10]))\n",
    "        xdy.append(float(row[11]))\n",
    "        xdz.append(float(row[12]))\n",
    "plt.plot(t_posx, label=\"x\")\n",
    "plt.plot(t_posy, label=\"y\")\n",
    "plt.plot(t_posz, label=\"z\")\n",
    "plt.plot(xdx, label=\"x desired\")\n",
    "plt.plot(xdy, label=\"y desired\")\n",
    "plt.plot(xdz, label=\"z desired\")\n",
    "plt.title(\"End effector trajectories\")\n",
    "plt.legend()\n",
    "plt.show()\n",
    "plt.plot(t1, label = \"Joint 1\")\n",
    "plt.plot(t2, label = \"Joint 2\")\n",
    "plt.plot(t3, label = \"Joint 3\")\n",
    "plt.plot(t4, label = \"Joint 4\")\n",
    "plt.plot(t5, label = \"Joint 5\")\n",
    "plt.plot(t6, label = \"Joint 6\")\n",
    "plt.plot(t7, label = \"Joint 7\")\n",
    "plt.title(\"Joints trajectory\")\n",
    "plt.legend()\n",
    "plt.show()"
   ]
  }
 ],
 "metadata": {
  "kernelspec": {
   "display_name": "Python 3",
   "language": "python",
   "name": "python3"
  },
  "language_info": {
   "codemirror_mode": {
    "name": "ipython",
    "version": 3
   },
   "file_extension": ".py",
   "mimetype": "text/x-python",
   "name": "python",
   "nbconvert_exporter": "python",
   "pygments_lexer": "ipython3",
   "version": "3.5.2"
  }
 },
 "nbformat": 4,
 "nbformat_minor": 4
}
